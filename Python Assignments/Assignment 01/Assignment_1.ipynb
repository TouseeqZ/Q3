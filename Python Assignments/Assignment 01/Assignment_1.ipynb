{
 "cells": [
  {
   "cell_type": "markdown",
   "metadata": {},
   "source": [
    "# 1"
   ]
  },
  {
   "cell_type": "markdown",
   "metadata": {},
   "source": [
    "Age Assignments Based on the Riddle\n",
    "\n",
    "Problem Statement: Write a program to solve this age-related riddle! Anton, Beth, Chen, Drew, and Ethan are all friends. Their ages are as follows:\n",
    "Anton is 21 years old.\n",
    "Beth is 6 years older than Anton.\n",
    "Chen is 20 years older than Beth.\n",
    "Drew is as old as Chen's age plus Anton's age.\n",
    "Ethan is the same age as Chen."
   ]
  },
  {
   "cell_type": "code",
   "execution_count": 4,
   "metadata": {},
   "outputs": [
    {
     "name": "stdout",
     "output_type": "stream",
     "text": [
      "Anton is 21\n",
      "Beth is 27\n",
      "Chen is 26\n",
      "Drew is 41\n",
      "Ethan is 26\n"
     ]
    }
   ],
   "source": [
    "Anton :int =21\n",
    "Beth :int = 27\n",
    "Chen :int = 26\n",
    "Drew :int = 41\n",
    "Ethan :int = 26\n",
    "\n",
    "print('Anton is', Anton)\n",
    "print('Beth is', Beth)\n",
    "print('Chen is', Chen)\n",
    "print('Drew is', Drew)\n",
    "print('Ethan is', Ethan)\n"
   ]
  },
  {
   "cell_type": "markdown",
   "metadata": {},
   "source": [
    "# 2"
   ]
  },
  {
   "cell_type": "markdown",
   "metadata": {},
   "source": [
    "Formatted String Interpolation\n",
    "\n",
    "Task: Given the variables name, age, and city, use f-strings to construct a sentence that describes a person using these variables.\n",
    "name:str = \"Alice\"\n",
    "age:int = 30\n",
    "city:str = \"New York\"\n",
    "Instructions: Use an f-string to create a sentence in the format: \"Alice is 30 years old and lives in New York.\""
   ]
  },
  {
   "cell_type": "code",
   "execution_count": 1,
   "metadata": {},
   "outputs": [
    {
     "name": "stdout",
     "output_type": "stream",
     "text": [
      "Alice is 30 years old and lives in New York\n"
     ]
    }
   ],
   "source": [
    "name:str = \"Alice\"\n",
    "age:int = 30\n",
    "city:str = \"New York\"\n",
    "print(f\"{name} is {age} years old and lives in {city}\")"
   ]
  },
  {
   "cell_type": "markdown",
   "metadata": {},
   "source": [
    "# 3"
   ]
  },
  {
   "cell_type": "markdown",
   "metadata": {},
   "source": [
    "String Manipulation\n",
    "\n",
    "Task: Given the string s, use string methods to:\n",
    "Capitalize the first letter: make the first character uppercase and the rest of the string lowercase.\n",
    "Convert to uppercase: change all characters in the string to uppercase.\n",
    "Convert to lowercase: change all characters in the string to lowercase.\n",
    "s:str = \"hElLo WoRlD\""
   ]
  },
  {
   "cell_type": "code",
   "execution_count": 6,
   "metadata": {},
   "outputs": [
    {
     "name": "stdout",
     "output_type": "stream",
     "text": [
      "Hello world\n",
      "HELLO WORLD\n",
      "hello world\n"
     ]
    }
   ],
   "source": [
    "s:str = \"hElLo WoRlD\"\n",
    "print(s.capitalize())\n",
    "print(s.upper())\n",
    "print(s.lower())\n"
   ]
  },
  {
   "cell_type": "markdown",
   "metadata": {},
   "source": [
    "# 4"
   ]
  },
  {
   "cell_type": "markdown",
   "metadata": {},
   "source": [
    "Substring Search\n",
    "\n",
    "Task: Given the string s, use string methods to:\n",
    "Find the index of \"fox\": get the starting index of the substring \"fox\". If \"fox\" is not found, it should return -1.\n",
    "Count occurrences of \"the\": Use the string's built-in method to count how many times the substring \"the\" appears in the string.\n",
    "s:str =\"the quick brown fox jumps over the lazy dog\""
   ]
  },
  {
   "cell_type": "code",
   "execution_count": 10,
   "metadata": {},
   "outputs": [
    {
     "name": "stdout",
     "output_type": "stream",
     "text": [
      "index of fox is  16\n",
      "\"the\" appears 2 times\n"
     ]
    }
   ],
   "source": [
    "s:str =\"the quick brown fox jumps over the lazy dog\"\n",
    "print(f'index of fox is  {s.find('fox')}')\n",
    "print(f'\"the\" appears {s.count('the')} times')"
   ]
  },
  {
   "cell_type": "markdown",
   "metadata": {},
   "source": [
    "# 5"
   ]
  },
  {
   "cell_type": "markdown",
   "metadata": {},
   "source": [
    "String Replacement\n",
    "\n",
    "Task: Given the string s, use string methods to:\n",
    "Replace \"Python\" with \"Java\": substitute \"Python\" with \"Java\".\n",
    "s:str =\"I love programming in Python\""
   ]
  },
  {
   "cell_type": "code",
   "execution_count": 11,
   "metadata": {},
   "outputs": [
    {
     "name": "stdout",
     "output_type": "stream",
     "text": [
      "I love programming in Java\n"
     ]
    }
   ],
   "source": [
    "s:str =\"I love programming in Python\"\n",
    "print(s.replace('Python','Java'))"
   ]
  },
  {
   "cell_type": "markdown",
   "metadata": {},
   "source": [
    "# 6"
   ]
  },
  {
   "cell_type": "markdown",
   "metadata": {},
   "source": [
    "String Splitting and Joining\n",
    "\n",
    "Task: Given the string s, use string methods to:\n",
    "Split into a list: break the string into a list of substrings based on the delimiter ,.\n",
    "Join with spaces: combine the list of substrings back into a single string, with each element separated by a space.\n",
    "s:str =\"apple,banana,cherry,dates\""
   ]
  },
  {
   "cell_type": "code",
   "execution_count": 14,
   "metadata": {},
   "outputs": [
    {
     "name": "stdout",
     "output_type": "stream",
     "text": [
      "['apple,banana,cherry,dates']\n",
      "apple,banana,cherry,dates\n"
     ]
    }
   ],
   "source": [
    "s:str =\"apple,banana,cherry,dates\"\n",
    "s=s.split()\n",
    "print(s)\n",
    "s=' '.join(s)\n",
    "print(s)"
   ]
  },
  {
   "cell_type": "markdown",
   "metadata": {},
   "source": [
    "# 7"
   ]
  },
  {
   "cell_type": "markdown",
   "metadata": {},
   "source": [
    "String Stripping and Justifying\n",
    "\n",
    "Task: Given the string s, use string methods to:\n",
    "Remove leading/trailing spaces: remove all leading and trailing whitespace characters from the string.\n",
    "Left justify with '*': left justify the string within a field of width 20, using * as the fill character.\n",
    "Right justify with '*': right justify the string within a field of width 20, using * as the fill character.\n",
    "s:str =\"   Python is fun!   \""
   ]
  },
  {
   "cell_type": "code",
   "execution_count": 42,
   "metadata": {},
   "outputs": [
    {
     "name": "stdout",
     "output_type": "stream",
     "text": [
      "Python is fun!\n",
      "Python is fun!*****\n",
      "*****Python is fun!\n"
     ]
    }
   ],
   "source": [
    "s:str =\"   Python is fun!   \"\n",
    "s=s.strip()\n",
    "print(s)\n",
    "s1=s.ljust(19,'*')\n",
    "print(s1)\n",
    "\n",
    "print(s.rjust(19,'*'))\n"
   ]
  },
  {
   "cell_type": "markdown",
   "metadata": {},
   "source": [
    "# 8"
   ]
  },
  {
   "cell_type": "markdown",
   "metadata": {},
   "source": [
    "Convert an integer to its binary representation\n",
    "\n",
    "Task: Given an integer num\n",
    "Obtain the binary representation of num\n",
    "num:int = 45"
   ]
  },
  {
   "cell_type": "code",
   "execution_count": 44,
   "metadata": {},
   "outputs": [
    {
     "name": "stdout",
     "output_type": "stream",
     "text": [
      "Binary representation :0b101101\n"
     ]
    }
   ],
   "source": [
    "num:int = 45\n",
    "print(f'Binary representation : {bin(num)}')\n"
   ]
  },
  {
   "cell_type": "markdown",
   "metadata": {},
   "source": [
    "# 9"
   ]
  },
  {
   "cell_type": "markdown",
   "metadata": {},
   "source": [
    "Calculate Powers of Numbers.\n",
    "\n",
    "Task: Given two integers base and exponent\n",
    "Compute base raised to the power of exponent.\n",
    "base:int = 3\n",
    "exponent:int = 4"
   ]
  },
  {
   "cell_type": "code",
   "execution_count": 48,
   "metadata": {},
   "outputs": [
    {
     "name": "stdout",
     "output_type": "stream",
     "text": [
      " Power reuslt :81.0\n"
     ]
    }
   ],
   "source": [
    "import math\n",
    "base:int = 3\n",
    "exponent:int = 4\n",
    "print(f' Power reuslt :{math.pow(base,exponent)}')"
   ]
  },
  {
   "cell_type": "markdown",
   "metadata": {},
   "source": [
    "# 10"
   ]
  },
  {
   "cell_type": "markdown",
   "metadata": {},
   "source": [
    "Round floating-point numbers\n",
    "\n",
    "Task: Given a floating-point number value\n",
    "Round value to the nearest integer.\n",
    "Round value to two decimal places.\n",
    "value:float = 12.34567"
   ]
  }
 ],
 "metadata": {
  "kernelspec": {
   "display_name": "Python 3",
   "language": "python",
   "name": "python3"
  },
  "language_info": {
   "codemirror_mode": {
    "name": "ipython",
    "version": 3
   },
   "file_extension": ".py",
   "mimetype": "text/x-python",
   "name": "python",
   "nbconvert_exporter": "python",
   "pygments_lexer": "ipython3",
   "version": "3.12.4"
  }
 },
 "nbformat": 4,
 "nbformat_minor": 2
}
